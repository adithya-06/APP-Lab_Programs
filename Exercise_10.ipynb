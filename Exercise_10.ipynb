{
 "cells": [
  {
   "cell_type": "code",
   "execution_count": 37,
   "id": "c739b09d",
   "metadata": {},
   "outputs": [],
   "source": [
    "import sympy\n",
    "from sympy import *\n",
    "from sympy.abc import x,y,z"
   ]
  },
  {
   "cell_type": "markdown",
   "id": "db2bdac7",
   "metadata": {},
   "source": [
    "##### 1. Calculate $\\sqrt{2}$ with 100 decimals"
   ]
  },
  {
   "cell_type": "code",
   "execution_count": 32,
   "id": "8a4ac260",
   "metadata": {
    "scrolled": true
   },
   "outputs": [
    {
     "name": "stdout",
     "output_type": "stream",
     "text": [
      "1.414213562373095048801688724209698078569671875376948073176679737990732478462107038850387534327641573\n"
     ]
    }
   ],
   "source": [
    "print(sqrt(2).evalf(100))"
   ]
  },
  {
   "cell_type": "markdown",
   "id": "b1fe2d71",
   "metadata": {},
   "source": [
    "##### 2. Calculate $\\frac{1}{2} + \\frac{1}{3}$ in rational artihmetic"
   ]
  },
  {
   "cell_type": "code",
   "execution_count": 6,
   "id": "6f45a306",
   "metadata": {},
   "outputs": [
    {
     "name": "stdout",
     "output_type": "stream",
     "text": [
      "5/6\n"
     ]
    }
   ],
   "source": [
    "print(Rational(1,2)+Rational(1,3))"
   ]
  },
  {
   "cell_type": "markdown",
   "id": "3a602ef3",
   "metadata": {},
   "source": [
    "##### 3. Calculate the expanded form of $(x+y)^6$"
   ]
  },
  {
   "cell_type": "code",
   "execution_count": 14,
   "id": "5e14aa59",
   "metadata": {},
   "outputs": [
    {
     "name": "stdout",
     "output_type": "stream",
     "text": [
      "x**6 + 6*x**5*y + 15*x**4*y**2 + 20*x**3*y**3 + 15*x**2*y**4 + 6*x*y**5 + y**6\n"
     ]
    }
   ],
   "source": [
    "print(expand((x+y)**6))"
   ]
  },
  {
   "cell_type": "markdown",
   "id": "ca79b6f4",
   "metadata": {},
   "source": [
    "##### 4. Simplify the trignometric expression $\\frac{\\sin(x)}{\\cos(x)}$"
   ]
  },
  {
   "cell_type": "code",
   "execution_count": 15,
   "id": "33fbbd4c",
   "metadata": {},
   "outputs": [
    {
     "name": "stdout",
     "output_type": "stream",
     "text": [
      "tan(x)\n"
     ]
    }
   ],
   "source": [
    "print(simplify(sin(x)/cos(x)))"
   ]
  },
  {
   "cell_type": "markdown",
   "id": "c87952a2",
   "metadata": {},
   "source": [
    "##### 5. Calculate $\\lim_{x \\to 0}\\frac{\\sin(x)-x}{x^3}$"
   ]
  },
  {
   "cell_type": "code",
   "execution_count": 16,
   "id": "13e9196c",
   "metadata": {},
   "outputs": [
    {
     "name": "stdout",
     "output_type": "stream",
     "text": [
      "-1/6\n"
     ]
    }
   ],
   "source": [
    "expr=(sin(x)-x)/x**3\n",
    "limit_expr=limit(expr,x,0)\n",
    "print(limit_expr)"
   ]
  },
  {
   "cell_type": "markdown",
   "id": "a9cecb2f",
   "metadata": {},
   "source": [
    "##### 6. Calculate derivative of  $\\log(x) ,\\frac{1}{x} ,\\sin(x) ,\\cos(x)$ for x"
   ]
  },
  {
   "cell_type": "code",
   "execution_count": 19,
   "id": "c7c67519",
   "metadata": {},
   "outputs": [
    {
     "name": "stdout",
     "output_type": "stream",
     "text": [
      "1/x\n",
      "-1/x**2\n",
      "cos(x)\n",
      "-sin(x)\n"
     ]
    }
   ],
   "source": [
    "print(diff(log(x),x))\n",
    "print(diff(1/x,x))\n",
    "print(diff(sin(x),x))\n",
    "print(diff(cos(x),x))"
   ]
  },
  {
   "cell_type": "markdown",
   "id": "b1cb87a6",
   "metadata": {},
   "source": [
    "##### 7. Solve the system of equations $x+y=2, 2x+y=0$"
   ]
  },
  {
   "cell_type": "code",
   "execution_count": 26,
   "id": "ff358b9b",
   "metadata": {},
   "outputs": [
    {
     "name": "stdout",
     "output_type": "stream",
     "text": [
      "{x: -2, y: 4}\n"
     ]
    }
   ],
   "source": [
    "print(solve([x+y-2,2*x+y],(x,y)))"
   ]
  },
  {
   "cell_type": "markdown",
   "id": "f9678c8d",
   "metadata": {},
   "source": [
    "##### 8. Interagte $x^2,\\sin x,\\cos x$ in terms of x"
   ]
  },
  {
   "cell_type": "code",
   "execution_count": 36,
   "id": "86889934",
   "metadata": {},
   "outputs": [
    {
     "name": "stdout",
     "output_type": "stream",
     "text": [
      "x**3/3\n",
      "-cos(x)\n",
      "sin(x)\n",
      "x**2*y\n",
      "y*sin(x)\n",
      "y*cos(x)\n"
     ]
    }
   ],
   "source": [
    "print(integrate(x**2,x))\n",
    "print(integrate(sin(x),x))\n",
    "print(integrate(cos(x),x))\n",
    "print(integrate(x**2,y))\n",
    "print(integrate(sin(x),y))\n",
    "print(integrate(cos(x),y))"
   ]
  },
  {
   "cell_type": "markdown",
   "id": "c060123b",
   "metadata": {},
   "source": [
    "##### 9. Solve $f''(x)+9f(x)=1$"
   ]
  },
  {
   "cell_type": "code",
   "execution_count": 34,
   "id": "e28e02db",
   "metadata": {},
   "outputs": [
    {
     "name": "stdout",
     "output_type": "stream",
     "text": [
      "Eq(f(x), C1*sin(3*x) + C2*cos(3*x) - 1/9)\n"
     ]
    }
   ],
   "source": [
    "f= Function('f')(x)\n",
    "a=dsolve(f.diff(x,x)+9*f+1,f)\n",
    "print(a)"
   ]
  },
  {
   "cell_type": "markdown",
   "id": "6ee21b7c",
   "metadata": {},
   "source": [
    "##### 10. Using matrices, solve the linear equations <br> &nbsp;&nbsp;&nbsp;&nbsp;&nbsp;&nbsp;$3x+7y=12z$ <br> &nbsp;&nbsp;&nbsp;&nbsp;&nbsp;&nbsp;$4x+2y=5z$"
   ]
  },
  {
   "cell_type": "code",
   "execution_count": 38,
   "id": "26fc5cd4",
   "metadata": {},
   "outputs": [
    {
     "name": "stdout",
     "output_type": "stream",
     "text": [
      "{(59*z/34, 33*z/34, z)}\n"
     ]
    }
   ],
   "source": [
    "M = Matrix(((3, 7, -12, 0), (4, -2, -5, 0)))\n",
    "system = A, b = M[:, :-1], M[:, -1]\n",
    "print(linsolve(system, x, y, z))"
   ]
  }
 ],
 "metadata": {
  "kernelspec": {
   "display_name": "Python 3 (ipykernel)",
   "language": "python",
   "name": "python3"
  },
  "language_info": {
   "codemirror_mode": {
    "name": "ipython",
    "version": 3
   },
   "file_extension": ".py",
   "mimetype": "text/x-python",
   "name": "python",
   "nbconvert_exporter": "python",
   "pygments_lexer": "ipython3",
   "version": "3.9.12"
  }
 },
 "nbformat": 4,
 "nbformat_minor": 5
}
